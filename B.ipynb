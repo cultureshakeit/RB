{
 "cells": [
  {
   "cell_type": "code",
   "execution_count": 1,
   "metadata": {},
   "outputs": [
    {
     "name": "stdout",
     "output_type": "stream",
     "text": [
      "2021-07-07 11:42:45.613528\n"
     ]
    }
   ],
   "source": [
    "a='''ATeam/target/m2e-wtp/web-resources/META-INF/maven/com.rental/controller/pom.properties'''\n",
    "\n",
    "import os,shutil;폴더명 = 'backup'\n",
    "if os.path.isdir(폴더명):shutil.rmtree(폴더명)\n",
    "\n",
    "for origin in [i.strip() for i in a.split('\\n')]:\n",
    "    #print(i[:i.rfind('/')],i[i.rfind('/')+1:],sep=' ')\n",
    "    \n",
    "    폴더생성 = origin[:origin.rfind('/')].split('/')\n",
    "    폴더생성.insert(0,폴더명)\n",
    "    플러스폴더 = ''\n",
    "    for i in 폴더생성:\n",
    "        플러스폴더 = os.path.join(플러스폴더,i)\n",
    "        if not os.path.isdir(플러스폴더):os.mkdir(플러스폴더)\n",
    "    if not os.path.isfile(f'{폴더명}/{origin}'):\n",
    "        shutil.move(origin, f'{폴더명}/{origin}')#잘라내기\n",
    "        \n",
    "import datetime\n",
    "print(datetime.datetime.today())"
   ]
  }
 ],
 "metadata": {
  "kernelspec": {
   "display_name": "Python 3",
   "language": "python",
   "name": "python3"
  },
  "language_info": {
   "codemirror_mode": {
    "name": "ipython",
    "version": 3
   },
   "file_extension": ".py",
   "mimetype": "text/x-python",
   "name": "python",
   "nbconvert_exporter": "python",
   "pygments_lexer": "ipython3",
   "version": "3.8.5"
  }
 },
 "nbformat": 4,
 "nbformat_minor": 4
}
